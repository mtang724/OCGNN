{
 "cells": [
  {
   "cell_type": "code",
   "execution_count": 20,
   "metadata": {},
   "outputs": [],
   "source": [
    "import os\n",
    "import pandas as pd\n",
    "import csv"
   ]
  },
  {
   "cell_type": "code",
   "execution_count": null,
   "metadata": {},
   "outputs": [],
   "source": [
    "loglist=os.listdir('./log-layer-hidden/')\n",
    "loglist"
   ]
  },
  {
   "cell_type": "code",
   "execution_count": 21,
   "metadata": {},
   "outputs": [],
   "source": [
    "datasets=['cora','citeseer','pubmed']\n",
    "models=['GCN','GAT','GIN','GraphSAGE']\n",
    "name=['dataset','model','n-hidden','n-layer','auc']"
   ]
  },
  {
   "cell_type": "code",
   "execution_count": 22,
   "metadata": {},
   "outputs": [],
   "source": [
    "txt=[]\n",
    "auc,n_layer,n_hidden=None,None,None\n",
    "for dataset in datasets:\n",
    "    for model in models:\n",
    "        path=f'./log/{dataset}+OC-{model}.log'\n",
    "        with open(path, 'r') as f:\n",
    "            #print(path)\n",
    "            text=f.readlines()\n",
    "            for t in text:\n",
    "                if 'n-hidden' in t:\n",
    "                    hidden_idx=t.find('n-hidden')\n",
    "                    n_hidden=t[hidden_idx+9:hidden_idx+11]\n",
    "                    #print(n_hidden)\n",
    "                if 'n-layer' in t:\n",
    "                    layer_idx=t.find('n-layer')\n",
    "                    n_layer=t[layer_idx+9:layer_idx+10]\n",
    "                    #print(n_layer)\n",
    "                if 'AUROC' in t:\n",
    "                    auc_idx=t.find('AUROC')\n",
    "                    auc=t[auc_idx+6:auc_idx+12]\n",
    "                    #print(auc)\n",
    "                if auc and n_layer and n_hidden:    \n",
    "                    dicts={name[0]:dataset,name[1]:model,name[2]:n_hidden,name[3]:n_layer,name[4]:auc}\n",
    "                    auc,n_layer,n_hidden=None,None,None\n",
    "                    #print(dicts)\n",
    "                    txt.append(dicts)"
   ]
  },
  {
   "cell_type": "code",
   "execution_count": 23,
   "metadata": {},
   "outputs": [],
   "source": [
    "\n",
    "with open(\"./log.csv\",'w',newline='') as t:#numline是来控制空的行数的\n",
    "    writer=csv.DictWriter(t,name)#这一步是创建一个csv的写入器（个人理解）\n",
    "    writer.writeheader()#写入标签\n",
    "    writer.writerows(txt)#写入样本数据 按行写"
   ]
  },
  {
   "cell_type": "code",
   "execution_count": null,
   "metadata": {},
   "outputs": [],
   "source": []
  }
 ],
 "metadata": {
  "kernelspec": {
   "display_name": "Python 3",
   "language": "python",
   "name": "python3"
  },
  "language_info": {
   "codemirror_mode": {
    "name": "ipython",
    "version": 3
   },
   "file_extension": ".py",
   "mimetype": "text/x-python",
   "name": "python",
   "nbconvert_exporter": "python",
   "pygments_lexer": "ipython3",
   "version": "3.7.7"
  },
  "varInspector": {
   "cols": {
    "lenName": 16,
    "lenType": 16,
    "lenVar": 40
   },
   "kernels_config": {
    "python": {
     "delete_cmd_postfix": "",
     "delete_cmd_prefix": "del ",
     "library": "var_list.py",
     "varRefreshCmd": "print(var_dic_list())"
    },
    "r": {
     "delete_cmd_postfix": ") ",
     "delete_cmd_prefix": "rm(",
     "library": "var_list.r",
     "varRefreshCmd": "cat(var_dic_list()) "
    }
   },
   "oldHeight": 275.44422199999997,
   "position": {
    "height": "40px",
    "left": "1436.67px",
    "right": "20px",
    "top": "120px",
    "width": "250px"
   },
   "types_to_exclude": [
    "module",
    "function",
    "builtin_function_or_method",
    "instance",
    "_Feature"
   ],
   "varInspector_section_display": "none",
   "window_display": true
  }
 },
 "nbformat": 4,
 "nbformat_minor": 2
}
