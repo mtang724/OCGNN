{
 "cells": [
  {
   "cell_type": "code",
   "execution_count": 2,
   "metadata": {},
   "outputs": [],
   "source": [
    "import os\n",
    "import pandas as pd\n",
    "import csv"
   ]
  },
  {
   "cell_type": "code",
   "execution_count": 3,
   "metadata": {},
   "outputs": [
    {
     "data": {
      "text/plain": [
       "['pubmed-twostage.log',\n",
       " 'cora+OC-GCN.log',\n",
       " 'cora-twostage.log',\n",
       " 'citeseer-twostage.log']"
      ]
     },
     "execution_count": 3,
     "metadata": {},
     "output_type": "execute_result"
    }
   ],
   "source": [
    "loglist=os.listdir('./log/')\n",
    "loglist"
   ]
  },
  {
   "cell_type": "code",
   "execution_count": 4,
   "metadata": {},
   "outputs": [],
   "source": [
    "datasets=['cora','citeseer','pubmed']\n",
    "#models=['IF','OCSVM','PCA','AE']\n",
    "name=['dataset','datamode','ad-method','emb-method','AUC']"
   ]
  },
  {
   "cell_type": "code",
   "execution_count": 40,
   "metadata": {},
   "outputs": [],
   "source": [
    "txt=[]\n",
    "dm,ad,emb,val_auc,auc=None,None,None,None,None\n",
    "for dataset in datasets:\n",
    "    #for model in models:\n",
    "    path=f'./log/{dataset}-twostage.log'\n",
    "    with open(path, 'r') as f:\n",
    "        #print(path)\n",
    "        text=f.readlines()\n",
    "        for t in text:\n",
    "            #print(t)\n",
    "            if name[1] in t:\n",
    "                idx=t.find(name[1])\n",
    "                dm=t[idx+9:idx+11]\n",
    "                #print(dm)\n",
    "            if name[2] in t:\n",
    "                idx=t.find(name[2])\n",
    "                ad=t[idx+10:idx+13]\n",
    "                \n",
    "            if name[3] in t:\n",
    "                idx=t.find(name[3])\n",
    "                emb=t[idx+11:idx+16]\n",
    "                #print(emb)\n",
    "            if name[4] in t and val_auc==None:\n",
    "                idx=t.find(name[4])\n",
    "                val_auc=t[idx+4:idx+9]\n",
    "                continue\n",
    "            if name[4] in t:\n",
    "                idx=t.find(name[4])\n",
    "                auc=t[idx+4:idx+9]                \n",
    "                #print(auc)\n",
    "            \n",
    "            if dm and ad and emb and auc:    \n",
    "                dicts={name[0]:dataset,name[1]:dm,name[2]:ad,name[3]:emb,name[4]:auc}\n",
    "                dm,ad,emb,val_auc,auc=None,None,None,None,None\n",
    "                #print(dicts)\n",
    "                txt.append(dicts)"
   ]
  },
  {
   "cell_type": "code",
   "execution_count": 41,
   "metadata": {},
   "outputs": [],
   "source": [
    "\n",
    "with open(\"./log.csv\",'w',newline='') as t:#numline是来控制空的行数的\n",
    "    writer=csv.DictWriter(t,name)#这一步是创建一个csv的写入器（个人理解）\n",
    "    writer.writeheader()#写入标签\n",
    "    writer.writerows(txt)#写入样本数据 按行写"
   ]
  },
  {
   "cell_type": "code",
   "execution_count": null,
   "metadata": {},
   "outputs": [],
   "source": []
  }
 ],
 "metadata": {
  "kernelspec": {
   "display_name": "Python 3",
   "language": "python",
   "name": "python3"
  },
  "language_info": {
   "codemirror_mode": {
    "name": "ipython",
    "version": 3
   },
   "file_extension": ".py",
   "mimetype": "text/x-python",
   "name": "python",
   "nbconvert_exporter": "python",
   "pygments_lexer": "ipython3",
   "version": "3.7.7"
  },
  "varInspector": {
   "cols": {
    "lenName": 16,
    "lenType": 16,
    "lenVar": 40
   },
   "kernels_config": {
    "python": {
     "delete_cmd_postfix": "",
     "delete_cmd_prefix": "del ",
     "library": "var_list.py",
     "varRefreshCmd": "print(var_dic_list())"
    },
    "r": {
     "delete_cmd_postfix": ") ",
     "delete_cmd_prefix": "rm(",
     "library": "var_list.r",
     "varRefreshCmd": "cat(var_dic_list()) "
    }
   },
   "oldHeight": 275.44422199999997,
   "position": {
    "height": "40px",
    "left": "1436.67px",
    "right": "20px",
    "top": "120px",
    "width": "250px"
   },
   "types_to_exclude": [
    "module",
    "function",
    "builtin_function_or_method",
    "instance",
    "_Feature"
   ],
   "varInspector_section_display": "none",
   "window_display": true
  }
 },
 "nbformat": 4,
 "nbformat_minor": 2
}
