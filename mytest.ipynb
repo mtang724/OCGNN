{
 "cells": [
  {
   "cell_type": "code",
   "execution_count": 70,
   "metadata": {},
   "outputs": [],
   "source": [
    "from dgl.data import citation_graph,CoraDataset,TUDataset,GINDataset, ICEWS18\n",
    "import torch\n",
    "from torch import nn\n",
    "from dgl import DGLGraph\n",
    "import numpy as np\n",
    "import dgl\n",
    "from datasets.prepocessing import one_class_processing"
   ]
  },
  {
   "cell_type": "code",
   "execution_count": 3,
   "metadata": {},
   "outputs": [
    {
     "data": {
      "text/plain": [
       "False"
      ]
     },
     "execution_count": 3,
     "metadata": {},
     "output_type": "execute_result"
    }
   ],
   "source": [
    "torch.cuda.is_available()"
   ]
  },
  {
   "cell_type": "code",
   "execution_count": null,
   "metadata": {},
   "outputs": [],
   "source": [
    "a=torch.ones(100,32)\n",
    "b=torch.ones(100,32)"
   ]
  },
  {
   "cell_type": "code",
   "execution_count": null,
   "metadata": {},
   "outputs": [],
   "source": [
    "data =citation_graph.load_cora()\n",
    "#data =citation_graph.load_citeseer()\n",
    "#data =TUDataset('PROTEINS_full')\n",
    "#data =ICEWS18('train')"
   ]
  },
  {
   "cell_type": "code",
   "execution_count": 39,
   "metadata": {},
   "outputs": [],
   "source": [
    "def pre_process(args,dataset):\n",
    "\n",
    "    for i in range(len(dataset)):\n",
    "        #print(dataset.graph_lists[i])\n",
    "        dataset.graph_lists[i].ndata\n",
    "        normal_idx=torch.where(dataset.graph_lists[i].ndata['node_labels']==0)[0]\n",
    "        abnormal_idx=torch.where(dataset.graph_lists[i].ndata['node_labels']!=0)[0]\n",
    "        dataset.graph_lists[i].ndata['node_labels'][normal_idx]=0\n",
    "        dataset.graph_lists[i].ndata['node_labels'][abnormal_idx]=1\n",
    "        \n",
    "        g=dgl.transform.add_self_loop(dataset.graph_lists[i])\n",
    "        g.ndata.update(dataset.graph_lists[i].ndata)\n",
    "        dataset.graph_lists[i]=g\n",
    "        #print(dataset.graph_lists[i])\n",
    "        return dataset"
   ]
  },
  {
   "cell_type": "code",
   "execution_count": 84,
   "metadata": {},
   "outputs": [
    {
     "ename": "KeyError",
     "evalue": "'node_labels'",
     "output_type": "error",
     "traceback": [
      "\u001b[0;31m---------------------------------------------------------------------------\u001b[0m",
      "\u001b[0;31mKeyError\u001b[0m                                  Traceback (most recent call last)",
      "\u001b[0;32m<ipython-input-84-f8375d3b9cfd>\u001b[0m in \u001b[0;36m<module>\u001b[0;34m\u001b[0m\n\u001b[1;32m      4\u001b[0m \u001b[0mtest_size\u001b[0m \u001b[0;34m=\u001b[0m \u001b[0mint\u001b[0m\u001b[0;34m(\u001b[0m\u001b[0;36m0.2\u001b[0m \u001b[0;34m*\u001b[0m \u001b[0mlen\u001b[0m\u001b[0;34m(\u001b[0m\u001b[0mdataset\u001b[0m\u001b[0;34m)\u001b[0m\u001b[0;34m)\u001b[0m\u001b[0;34m\u001b[0m\u001b[0;34m\u001b[0m\u001b[0m\n\u001b[1;32m      5\u001b[0m \u001b[0mval_size\u001b[0m \u001b[0;34m=\u001b[0m \u001b[0mint\u001b[0m\u001b[0;34m(\u001b[0m\u001b[0mlen\u001b[0m\u001b[0;34m(\u001b[0m\u001b[0mdataset\u001b[0m\u001b[0;34m)\u001b[0m \u001b[0;34m-\u001b[0m \u001b[0mtrain_size\u001b[0m \u001b[0;34m-\u001b[0m \u001b[0mtest_size\u001b[0m\u001b[0;34m)\u001b[0m\u001b[0;34m\u001b[0m\u001b[0;34m\u001b[0m\u001b[0m\n\u001b[0;32m----> 6\u001b[0;31m \u001b[0mdataset\u001b[0m \u001b[0;34m=\u001b[0m \u001b[0mpre_process\u001b[0m\u001b[0;34m(\u001b[0m\u001b[0;32mNone\u001b[0m\u001b[0;34m,\u001b[0m\u001b[0mdataset\u001b[0m\u001b[0;34m)\u001b[0m\u001b[0;34m\u001b[0m\u001b[0;34m\u001b[0m\u001b[0m\n\u001b[0m\u001b[1;32m      7\u001b[0m dataset_train, dataset_val, dataset_test = torch.utils.data.random_split(\n\u001b[1;32m      8\u001b[0m     dataset, (train_size, val_size, test_size))\n",
      "\u001b[0;32m<ipython-input-39-4eec39fcee03>\u001b[0m in \u001b[0;36mpre_process\u001b[0;34m(args, dataset)\u001b[0m\n\u001b[1;32m      4\u001b[0m         \u001b[0;31m#print(dataset.graph_lists[i])\u001b[0m\u001b[0;34m\u001b[0m\u001b[0;34m\u001b[0m\u001b[0;34m\u001b[0m\u001b[0m\n\u001b[1;32m      5\u001b[0m         \u001b[0mdataset\u001b[0m\u001b[0;34m.\u001b[0m\u001b[0mgraph_lists\u001b[0m\u001b[0;34m[\u001b[0m\u001b[0mi\u001b[0m\u001b[0;34m]\u001b[0m\u001b[0;34m.\u001b[0m\u001b[0mndata\u001b[0m\u001b[0;34m\u001b[0m\u001b[0;34m\u001b[0m\u001b[0m\n\u001b[0;32m----> 6\u001b[0;31m         \u001b[0mnormal_idx\u001b[0m\u001b[0;34m=\u001b[0m\u001b[0mtorch\u001b[0m\u001b[0;34m.\u001b[0m\u001b[0mwhere\u001b[0m\u001b[0;34m(\u001b[0m\u001b[0mdataset\u001b[0m\u001b[0;34m.\u001b[0m\u001b[0mgraph_lists\u001b[0m\u001b[0;34m[\u001b[0m\u001b[0mi\u001b[0m\u001b[0;34m]\u001b[0m\u001b[0;34m.\u001b[0m\u001b[0mndata\u001b[0m\u001b[0;34m[\u001b[0m\u001b[0;34m'node_labels'\u001b[0m\u001b[0;34m]\u001b[0m\u001b[0;34m==\u001b[0m\u001b[0;36m0\u001b[0m\u001b[0;34m)\u001b[0m\u001b[0;34m[\u001b[0m\u001b[0;36m0\u001b[0m\u001b[0;34m]\u001b[0m\u001b[0;34m\u001b[0m\u001b[0;34m\u001b[0m\u001b[0m\n\u001b[0m\u001b[1;32m      7\u001b[0m         \u001b[0mabnormal_idx\u001b[0m\u001b[0;34m=\u001b[0m\u001b[0mtorch\u001b[0m\u001b[0;34m.\u001b[0m\u001b[0mwhere\u001b[0m\u001b[0;34m(\u001b[0m\u001b[0mdataset\u001b[0m\u001b[0;34m.\u001b[0m\u001b[0mgraph_lists\u001b[0m\u001b[0;34m[\u001b[0m\u001b[0mi\u001b[0m\u001b[0;34m]\u001b[0m\u001b[0;34m.\u001b[0m\u001b[0mndata\u001b[0m\u001b[0;34m[\u001b[0m\u001b[0;34m'node_labels'\u001b[0m\u001b[0;34m]\u001b[0m\u001b[0;34m!=\u001b[0m\u001b[0;36m0\u001b[0m\u001b[0;34m)\u001b[0m\u001b[0;34m[\u001b[0m\u001b[0;36m0\u001b[0m\u001b[0;34m]\u001b[0m\u001b[0;34m\u001b[0m\u001b[0;34m\u001b[0m\u001b[0m\n\u001b[1;32m      8\u001b[0m         \u001b[0mdataset\u001b[0m\u001b[0;34m.\u001b[0m\u001b[0mgraph_lists\u001b[0m\u001b[0;34m[\u001b[0m\u001b[0mi\u001b[0m\u001b[0;34m]\u001b[0m\u001b[0;34m.\u001b[0m\u001b[0mndata\u001b[0m\u001b[0;34m[\u001b[0m\u001b[0;34m'node_labels'\u001b[0m\u001b[0;34m]\u001b[0m\u001b[0;34m[\u001b[0m\u001b[0mnormal_idx\u001b[0m\u001b[0;34m]\u001b[0m\u001b[0;34m=\u001b[0m\u001b[0;36m0\u001b[0m\u001b[0;34m\u001b[0m\u001b[0;34m\u001b[0m\u001b[0m\n",
      "\u001b[0;32m~/.conda/envs/torch/lib/python3.7/site-packages/dgl/view.py\u001b[0m in \u001b[0;36m__getitem__\u001b[0;34m(self, key)\u001b[0m\n\u001b[1;32m     58\u001b[0m \u001b[0;34m\u001b[0m\u001b[0m\n\u001b[1;32m     59\u001b[0m     \u001b[0;32mdef\u001b[0m \u001b[0m__getitem__\u001b[0m\u001b[0;34m(\u001b[0m\u001b[0mself\u001b[0m\u001b[0;34m,\u001b[0m \u001b[0mkey\u001b[0m\u001b[0;34m)\u001b[0m\u001b[0;34m:\u001b[0m\u001b[0;34m\u001b[0m\u001b[0;34m\u001b[0m\u001b[0m\n\u001b[0;32m---> 60\u001b[0;31m         \u001b[0;32mreturn\u001b[0m \u001b[0mself\u001b[0m\u001b[0;34m.\u001b[0m\u001b[0m_graph\u001b[0m\u001b[0;34m.\u001b[0m\u001b[0mget_n_repr\u001b[0m\u001b[0;34m(\u001b[0m\u001b[0mself\u001b[0m\u001b[0;34m.\u001b[0m\u001b[0m_nodes\u001b[0m\u001b[0;34m)\u001b[0m\u001b[0;34m[\u001b[0m\u001b[0mkey\u001b[0m\u001b[0;34m]\u001b[0m\u001b[0;34m\u001b[0m\u001b[0;34m\u001b[0m\u001b[0m\n\u001b[0m\u001b[1;32m     61\u001b[0m \u001b[0;34m\u001b[0m\u001b[0m\n\u001b[1;32m     62\u001b[0m     \u001b[0;32mdef\u001b[0m \u001b[0m__setitem__\u001b[0m\u001b[0;34m(\u001b[0m\u001b[0mself\u001b[0m\u001b[0;34m,\u001b[0m \u001b[0mkey\u001b[0m\u001b[0;34m,\u001b[0m \u001b[0mval\u001b[0m\u001b[0;34m)\u001b[0m\u001b[0;34m:\u001b[0m\u001b[0;34m\u001b[0m\u001b[0;34m\u001b[0m\u001b[0m\n",
      "\u001b[0;31mKeyError\u001b[0m: 'node_labels'"
     ]
    }
   ],
   "source": [
    "from dgl.data import tu\n",
    "dataset = tu.TUDataset(name='Synthie')\n",
    "train_size = int(0.6 * len(dataset))\n",
    "test_size = int(0.2 * len(dataset))\n",
    "val_size = int(len(dataset) - train_size - test_size)\n",
    "dataset = pre_process(None,dataset)\n",
    "dataset_train, dataset_val, dataset_test = torch.utils.data.random_split(\n",
    "    dataset, (train_size, val_size, test_size))"
   ]
  },
  {
   "cell_type": "code",
   "execution_count": 150,
   "metadata": {},
   "outputs": [
    {
     "name": "stdout",
     "output_type": "stream",
     "text": [
      "tensor([[11., 11., 11.,  ..., 11., 11., 11.],\n",
      "        [11., 11., 11.,  ..., 11., 11., 11.],\n",
      "        [11., 11., 11.,  ..., 11., 11., 11.],\n",
      "        ...,\n",
      "        [11., 11., 11.,  ..., 11., 11., 11.],\n",
      "        [11., 11., 11.,  ..., 11., 11., 11.],\n",
      "        [11., 11., 11.,  ..., 11., 11., 11.]])\n",
      "tensor([1., 1., 1., 1., 1., 1., 1., 1., 1., 1., 1., 1., 1., 1., 1., 1., 1., 1.,\n",
      "        1., 1., 1., 1., 1., 1., 1., 1., 1., 1., 1., 1., 1., 1.])\n"
     ]
    }
   ],
   "source": [
    "c=torch.ones(32)\n",
    "x=torch.ones(50,32)+10\n",
    "print(x)\n",
    "print(c)"
   ]
  },
  {
   "cell_type": "code",
   "execution_count": 151,
   "metadata": {},
   "outputs": [
    {
     "data": {
      "text/plain": [
       "torch.Size([50, 32])"
      ]
     },
     "execution_count": 151,
     "metadata": {},
     "output_type": "execute_result"
    }
   ],
   "source": [
    "t=(x - c)** 2\n",
    "t.size()"
   ]
  },
  {
   "cell_type": "code",
   "execution_count": 152,
   "metadata": {},
   "outputs": [
    {
     "name": "stdout",
     "output_type": "stream",
     "text": [
      "torch.Size([50])\n"
     ]
    },
    {
     "data": {
      "text/plain": [
       "tensor([3200., 3200., 3200., 3200., 3200., 3200., 3200., 3200., 3200., 3200.,\n",
       "        3200., 3200., 3200., 3200., 3200., 3200., 3200., 3200., 3200., 3200.,\n",
       "        3200., 3200., 3200., 3200., 3200., 3200., 3200., 3200., 3200., 3200.,\n",
       "        3200., 3200., 3200., 3200., 3200., 3200., 3200., 3200., 3200., 3200.,\n",
       "        3200., 3200., 3200., 3200., 3200., 3200., 3200., 3200., 3200., 3200.])"
      ]
     },
     "execution_count": 152,
     "metadata": {},
     "output_type": "execute_result"
    }
   ],
   "source": [
    "dist1 = torch.sum((x - c) ** 2, dim=1)\n",
    "print(dist1.size())\n",
    "dist1"
   ]
  },
  {
   "cell_type": "code",
   "execution_count": 153,
   "metadata": {},
   "outputs": [
    {
     "data": {
      "text/plain": [
       "tensor(3200.)"
      ]
     },
     "execution_count": 153,
     "metadata": {},
     "output_type": "execute_result"
    }
   ],
   "source": [
    "torch.mean(dist1)"
   ]
  },
  {
   "cell_type": "code",
   "execution_count": 154,
   "metadata": {},
   "outputs": [
    {
     "name": "stdout",
     "output_type": "stream",
     "text": [
      "torch.Size([50])\n"
     ]
    },
    {
     "data": {
      "text/plain": [
       "tensor([100., 100., 100., 100., 100., 100., 100., 100., 100., 100., 100., 100.,\n",
       "        100., 100., 100., 100., 100., 100., 100., 100., 100., 100., 100., 100.,\n",
       "        100., 100., 100., 100., 100., 100., 100., 100., 100., 100., 100., 100.,\n",
       "        100., 100., 100., 100., 100., 100., 100., 100., 100., 100., 100., 100.,\n",
       "        100., 100.])"
      ]
     },
     "execution_count": 154,
     "metadata": {},
     "output_type": "execute_result"
    }
   ],
   "source": [
    "c_=c.repeat(x.size()[0],1)\n",
    "# # print('c',c.size())\n",
    "res=x-c_\n",
    "# # print('res',res.size())\n",
    "res=torch.mean(res, 1, keepdim=True)\n",
    "# # print('res mean',res.size())\n",
    "dist2=torch.diag(torch.mm(res,torch.transpose(res, 0, 1)))\n",
    "print(dist2.size())\n",
    "dist2"
   ]
  },
  {
   "cell_type": "code",
   "execution_count": 155,
   "metadata": {},
   "outputs": [
    {
     "data": {
      "text/plain": [
       "tensor(100.)"
      ]
     },
     "execution_count": 155,
     "metadata": {},
     "output_type": "execute_result"
    }
   ],
   "source": [
    "torch.mean(dist2)"
   ]
  },
  {
   "cell_type": "code",
   "execution_count": 36,
   "metadata": {},
   "outputs": [
    {
     "data": {
      "text/plain": [
       "tensor([ 0,  1,  2,  3,  4,  5,  6,  7,  8,  9, 10, 11, 12, 13, 14, 15, 16, 17,\n",
       "        18, 19, 20, 21])"
      ]
     },
     "execution_count": 36,
     "metadata": {},
     "output_type": "execute_result"
    }
   ],
   "source": [
    "torch.where(dataset.graph_lists[0].ndata['node_labels']==0)[0]"
   ]
  },
  {
   "cell_type": "code",
   "execution_count": null,
   "metadata": {},
   "outputs": [],
   "source": []
  },
  {
   "cell_type": "code",
   "execution_count": 10,
   "metadata": {},
   "outputs": [],
   "source": [
    "def batching_graph(batch):\n",
    "    '''\n",
    "    for dataset batching\n",
    "    transform ndata to tensor (in gpu is available)\n",
    "    '''\n",
    "    graphs, labels = map(list, zip(*batch))\n",
    "    #cuda = torch.cuda.is_available()\n",
    "\n",
    "    # batch graphs and cast to PyTorch tensor\n",
    "    for graph in graphs:\n",
    "        for (key, value) in graph.ndata.items():\n",
    "            graph.ndata[key] = value.float()\n",
    "    batched_graphs = dgl.batch(graphs)\n",
    "\n",
    "    # cast to PyTorch tensor\n",
    "    batched_labels = torch.LongTensor(np.array(labels))\n",
    "\n",
    "    return batched_graphs, batched_labels"
   ]
  },
  {
   "cell_type": "code",
   "execution_count": 43,
   "metadata": {},
   "outputs": [],
   "source": [
    "train_loader=torch.utils.data.DataLoader(dataset_train,\n",
    "                                       batch_size=32,\n",
    "                                       shuffle=True,\n",
    "                                       collate_fn=batching_graph,\n",
    "                                       drop_last=True,\n",
    "                                       num_workers=4)"
   ]
  },
  {
   "cell_type": "code",
   "execution_count": 44,
   "metadata": {},
   "outputs": [
    {
     "name": "stdout",
     "output_type": "stream",
     "text": [
      "DGLGraph(num_nodes=1114, num_edges=4352,\n",
      "         ndata_schemes={'node_labels': Scheme(shape=(), dtype=torch.float32), 'node_attr': Scheme(shape=(29,), dtype=torch.float32)}\n",
      "         edata_schemes={})\n",
      "DGLGraph(num_nodes=1197, num_edges=4408,\n",
      "         ndata_schemes={'node_labels': Scheme(shape=(), dtype=torch.float32), 'node_attr': Scheme(shape=(29,), dtype=torch.float32)}\n",
      "         edata_schemes={})\n",
      "DGLGraph(num_nodes=1003, num_edges=3752,\n",
      "         ndata_schemes={'node_labels': Scheme(shape=(), dtype=torch.float32), 'node_attr': Scheme(shape=(29,), dtype=torch.float32)}\n",
      "         edata_schemes={})\n",
      "DGLGraph(num_nodes=1206, num_edges=4530,\n",
      "         ndata_schemes={'node_labels': Scheme(shape=(), dtype=torch.float32), 'node_attr': Scheme(shape=(29,), dtype=torch.float32)}\n",
      "         edata_schemes={})\n",
      "DGLGraph(num_nodes=1149, num_edges=4454,\n",
      "         ndata_schemes={'node_labels': Scheme(shape=(), dtype=torch.float32), 'node_attr': Scheme(shape=(29,), dtype=torch.float32)}\n",
      "         edata_schemes={})\n"
     ]
    }
   ],
   "source": [
    "for (batch_idx, (batch_graph, graph_labels)) in enumerate(train_loader):\n",
    "    print(batch_graph)\n",
    "    if batch_idx >3:\n",
    "        break"
   ]
  },
  {
   "cell_type": "code",
   "execution_count": 74,
   "metadata": {},
   "outputs": [],
   "source": [
    "a=batch_graph.ndata['node_attr']\n",
    "m = nn.BatchNorm1d(29, affine=False)"
   ]
  },
  {
   "cell_type": "code",
   "execution_count": 79,
   "metadata": {},
   "outputs": [
    {
     "data": {
      "text/plain": [
       "29"
      ]
     },
     "execution_count": 79,
     "metadata": {},
     "output_type": "execute_result"
    }
   ],
   "source": [
    "batch_graph.ndata['node_attr'].shape[1]"
   ]
  },
  {
   "cell_type": "code",
   "execution_count": 75,
   "metadata": {},
   "outputs": [
    {
     "data": {
      "text/plain": [
       "tensor([[-0.4098, -0.4129, -0.3420,  ...,  0.0000, -0.9250,  0.0000],\n",
       "        [-0.3648, -0.3629,  0.1712,  ...,  0.0000, -0.9250,  0.0000],\n",
       "        [-0.2165, -0.2081,  0.8555,  ...,  0.0000, -0.9250,  0.0000],\n",
       "        ...,\n",
       "        [-0.3082, -0.3113, -0.3420,  ...,  0.0000,  1.0733,  0.0000],\n",
       "        [-0.2382, -0.2447, -0.6842,  ...,  0.0000,  1.0733,  0.0000],\n",
       "        [-0.2249, -0.2314, -0.6842,  ...,  0.0000,  1.0733,  0.0000]])"
      ]
     },
     "execution_count": 75,
     "metadata": {},
     "output_type": "execute_result"
    }
   ],
   "source": [
    "output = m(a)\n",
    "output"
   ]
  },
  {
   "cell_type": "code",
   "execution_count": 76,
   "metadata": {},
   "outputs": [
    {
     "data": {
      "text/plain": [
       "tensor(16.6918)"
      ]
     },
     "execution_count": 76,
     "metadata": {},
     "output_type": "execute_result"
    }
   ],
   "source": [
    "output.max()"
   ]
  },
  {
   "cell_type": "code",
   "execution_count": 34,
   "metadata": {},
   "outputs": [
    {
     "data": {
      "text/plain": [
       "tensor([   0,    1,    2,    3,    4,    5,    6,    7,    8,    9,   10,   11,\n",
       "          24,   25,   38,   39,   40,   41,   42,   43,   44,   45,   46,   47,\n",
       "          48,   49,   50,   51,   52,   53,   54,   55,   56,   57,   71,   78,\n",
       "          79,   80,   81,   82,   83,   84,   85,   86,   87,   88,   89,   90,\n",
       "          91,   92,  135,  136,  137,  138,  139,  140,  141,  142,  143,  144,\n",
       "         145,  175,  176,  177,  178,  179,  180,  181,  182,  183,  184,  185,\n",
       "         186,  187,  197,  198,  199,  200,  201,  202,  203,  204,  205,  206,\n",
       "         207,  208,  209,  210,  211,  212,  213,  214,  215,  216,  217,  218,\n",
       "         219,  220,  221,  222,  223,  224,  225,  226,  227,  228,  229,  230,\n",
       "         261,  262,  263,  264,  265,  266,  271,  272,  273,  274,  305,  306,\n",
       "         307,  308,  309,  310,  311,  312,  313,  314,  315,  332,  333,  334,\n",
       "         335,  336,  343,  344,  345,  346,  347,  348,  349,  350,  351,  352,\n",
       "         353,  354,  355,  356,  357,  372,  373,  374,  375,  376,  377,  378,\n",
       "         379,  380,  381,  394,  395,  396,  397,  398,  399,  460,  461,  462,\n",
       "         463,  464,  465,  466,  467,  468,  469,  470,  479,  480,  481,  482,\n",
       "         483,  484,  485,  486,  487,  488,  489,  490,  491,  492,  493,  494,\n",
       "         495,  496,  497,  498,  499,  500,  501,  502,  503,  504,  530,  531,\n",
       "         532,  533,  534,  535,  536,  537,  538,  539,  540,  541,  542,  543,\n",
       "         544,  590,  591,  592,  593,  594,  595,  596,  597,  598,  599,  600,\n",
       "         601,  602,  603,  604,  605,  606,  607,  608,  609,  610,  611,  612,\n",
       "         613,  614,  615,  616,  617,  618,  619,  620,  621,  622,  623,  624,\n",
       "         625,  626,  627,  628,  629,  630,  649,  650,  651,  652,  653,  654,\n",
       "         655,  656,  657,  658,  659,  660,  661,  662,  663,  664,  665,  666,\n",
       "         667,  668,  669,  670,  671,  672,  673,  674,  675,  676,  677,  678,\n",
       "         679,  680,  681,  682,  683,  684,  685,  686,  687,  688,  689,  690,\n",
       "         691,  692,  693,  694,  695,  696,  697,  698,  719,  720,  721,  722,\n",
       "         723,  724,  725,  726,  727,  728,  729,  730,  731,  732,  733,  734,\n",
       "         735,  736,  737,  738,  739,  740,  741,  750,  751,  756,  757,  758,\n",
       "         759,  760,  761,  762,  763,  764,  765,  766,  767,  768,  769,  770,\n",
       "         778,  779,  780,  781,  782,  783,  784,  785,  786,  787,  788,  789,\n",
       "         790,  791,  792,  793,  794,  795,  796,  797,  798,  799,  820,  821,\n",
       "         822,  823,  824,  825,  826,  827,  828,  829,  830,  831,  832,  833,\n",
       "         834,  835,  836,  837,  838,  839,  840,  841,  842,  843,  844,  845,\n",
       "         846,  847,  848,  849,  850,  851,  852,  853,  854,  855,  856,  857,\n",
       "         858,  859,  860,  861,  862,  863,  864,  865,  866,  867,  868,  869,\n",
       "         870,  871,  872,  873,  874,  875,  876,  877,  878,  879,  880,  881,\n",
       "         882,  883,  884,  885,  946,  947,  948,  949,  950,  951,  952,  953,\n",
       "         954,  955,  956,  964,  965,  966,  967,  968,  969,  975,  976,  977,\n",
       "         978,  979,  985,  986,  987,  988,  989, 1021, 1022, 1023, 1024, 1025,\n",
       "        1026, 1027, 1050, 1051, 1052, 1053, 1054, 1055, 1056, 1057, 1058, 1059,\n",
       "        1060, 1061, 1062])"
      ]
     },
     "execution_count": 34,
     "metadata": {},
     "output_type": "execute_result"
    }
   ],
   "source": [
    "normal_idx=torch.where(batch_graph.ndata['node_labels']==0)[0]\n",
    "abnormal_idx=torch.where(batch_graph.ndata['node_labels']!=0)[0]\n",
    "\n",
    "\n",
    "normal_idx"
   ]
  },
  {
   "cell_type": "code",
   "execution_count": null,
   "metadata": {},
   "outputs": [],
   "source": []
  },
  {
   "cell_type": "code",
   "execution_count": 29,
   "metadata": {},
   "outputs": [],
   "source": [
    "batch_graph.ndata['node_labels'][normal_idx]=0\n",
    "batch_graph.ndata['node_labels'][abnormal_idx]=1"
   ]
  },
  {
   "cell_type": "code",
   "execution_count": 32,
   "metadata": {},
   "outputs": [
    {
     "data": {
      "text/plain": [
       "tensor(593.)"
      ]
     },
     "execution_count": 32,
     "metadata": {},
     "output_type": "execute_result"
    }
   ],
   "source": [
    "batch_graph.ndata['node_labels'].sum()"
   ]
  },
  {
   "cell_type": "code",
   "execution_count": null,
   "metadata": {},
   "outputs": [],
   "source": [
    "input_dim, label_dim, max_num_node = dataset.statistics()"
   ]
  },
  {
   "cell_type": "code",
   "execution_count": null,
   "metadata": {},
   "outputs": [],
   "source": [
    "print(len(dataset_train))\n",
    "print(len(dataset_val))\n",
    "print(len(dataset_test))"
   ]
  },
  {
   "cell_type": "code",
   "execution_count": null,
   "metadata": {},
   "outputs": [],
   "source": [
    "label0=data[0][0].ndata['node_labels']\n",
    "label1=data[1][0].ndata['node_labels']\n",
    "label2=data[2][0].ndata['node_labels']"
   ]
  },
  {
   "cell_type": "code",
   "execution_count": null,
   "metadata": {},
   "outputs": [],
   "source": [
    "label1"
   ]
  },
  {
   "cell_type": "code",
   "execution_count": null,
   "metadata": {},
   "outputs": [],
   "source": [
    "print(len(label0))\n",
    "print(len(label1))\n",
    "print(len(label2))"
   ]
  },
  {
   "cell_type": "code",
   "execution_count": null,
   "metadata": {},
   "outputs": [],
   "source": [
    "data[1][0].ndata['node_labels'].size()"
   ]
  },
  {
   "cell_type": "code",
   "execution_count": null,
   "metadata": {},
   "outputs": [],
   "source": []
  },
  {
   "cell_type": "code",
   "execution_count": null,
   "metadata": {},
   "outputs": [],
   "source": [
    "labels,train_mask,val_mask,test_mask=one_class_processing(data[0][0],4)"
   ]
  },
  {
   "cell_type": "code",
   "execution_count": null,
   "metadata": {},
   "outputs": [],
   "source": [
    "from collections import Counter\n",
    "Counter(data.labels)"
   ]
  },
  {
   "cell_type": "code",
   "execution_count": null,
   "metadata": {},
   "outputs": [],
   "source": [
    "normal_class=2\n",
    "labels,train_mask,val_mask,test_mask=one_class_processing(data.labels,normal_class)"
   ]
  },
  {
   "cell_type": "code",
   "execution_count": null,
   "metadata": {},
   "outputs": [],
   "source": [
    "labels[train_mask.astype(int)].shape"
   ]
  },
  {
   "cell_type": "code",
   "execution_count": null,
   "metadata": {},
   "outputs": [],
   "source": [
    "print('train',np.sum(labels[train_mask.astype(int)==1]))\n",
    "print('val',np.sum(labels[val_mask.astype(int)==1]))\n",
    "print('test',np.sum(labels[test_mask.astype(int)==1]))"
   ]
  },
  {
   "cell_type": "code",
   "execution_count": null,
   "metadata": {},
   "outputs": [],
   "source": [
    "print('train',np.sum(train_mask))\n",
    "print('val',np.sum(val_mask))\n",
    "print('test',np.sum(test_mask))"
   ]
  },
  {
   "cell_type": "code",
   "execution_count": null,
   "metadata": {},
   "outputs": [],
   "source": [
    "train_mask.shape"
   ]
  },
  {
   "cell_type": "code",
   "execution_count": null,
   "metadata": {},
   "outputs": [],
   "source": []
  }
 ],
 "metadata": {
  "kernelspec": {
   "display_name": "Python 3.7.6 64-bit ('torch': conda)",
   "language": "python",
   "name": "python37664bittorchconda548f72fdfc224edabca6854a96161b03"
  },
  "language_info": {
   "codemirror_mode": {
    "name": "ipython",
    "version": 3
   },
   "file_extension": ".py",
   "mimetype": "text/x-python",
   "name": "python",
   "nbconvert_exporter": "python",
   "pygments_lexer": "ipython3",
   "version": "3.7.6"
  },
  "varInspector": {
   "cols": {
    "lenName": 16,
    "lenType": 16,
    "lenVar": 40
   },
   "kernels_config": {
    "python": {
     "delete_cmd_postfix": "",
     "delete_cmd_prefix": "del ",
     "library": "var_list.py",
     "varRefreshCmd": "print(var_dic_list())"
    },
    "r": {
     "delete_cmd_postfix": ") ",
     "delete_cmd_prefix": "rm(",
     "library": "var_list.r",
     "varRefreshCmd": "cat(var_dic_list()) "
    }
   },
   "position": {
    "height": "169.983px",
    "left": "1763.33px",
    "right": "20px",
    "top": "120px",
    "width": "350px"
   },
   "types_to_exclude": [
    "module",
    "function",
    "builtin_function_or_method",
    "instance",
    "_Feature"
   ],
   "window_display": true
  }
 },
 "nbformat": 4,
 "nbformat_minor": 2
}
