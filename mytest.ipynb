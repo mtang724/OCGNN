{
 "cells": [
  {
   "cell_type": "code",
   "execution_count": 70,
   "metadata": {},
   "outputs": [],
   "source": [
    "from dgl.data import citation_graph,CoraDataset,TUDataset,GINDataset, ICEWS18\n",
    "import torch\n",
    "from torch import nn\n",
    "from dgl import DGLGraph\n",
    "import numpy as np\n",
    "import dgl\n",
    "from datasets.prepocessing import one_class_processing"
   ]
  },
  {
   "cell_type": "code",
   "execution_count": 3,
   "metadata": {},
   "outputs": [
    {
     "data": {
      "text/plain": [
       "False"
      ]
     },
     "execution_count": 3,
     "metadata": {},
     "output_type": "execute_result"
    }
   ],
   "source": [
    "torch.cuda.is_available()"
   ]
  },
  {
   "cell_type": "code",
   "execution_count": null,
   "metadata": {},
   "outputs": [],
   "source": [
    "a=torch.ones(100,32)\n",
    "b=torch.ones(100,32)"
   ]
  },
  {
   "cell_type": "code",
   "execution_count": null,
   "metadata": {},
   "outputs": [],
   "source": [
    "data =citation_graph.load_cora()\n",
    "#data =citation_graph.load_citeseer()\n",
    "#data =TUDataset('PROTEINS_full')\n",
    "#data =ICEWS18('train')"
   ]
  },
  {
   "cell_type": "code",
   "execution_count": 179,
   "metadata": {},
   "outputs": [],
   "source": [
    "def pre_process(args,dataset):\n",
    "\n",
    "    for i in range(len(dataset)):\n",
    "        print(i)\n",
    "        #dataset.graph_lists[i].ndata\n",
    "        normal_idx=torch.where(dataset.graph_lists[i].ndata['node_labels']==0)[0]\n",
    "        abnormal_idx=torch.where(dataset.graph_lists[i].ndata['node_labels']!=0)[0]\n",
    "        dataset.graph_lists[i].ndata['node_labels'][normal_idx]=0\n",
    "        dataset.graph_lists[i].ndata['node_labels'][abnormal_idx]=1\n",
    "        \n",
    "        g=dgl.transform.add_self_loop(dataset.graph_lists[i])\n",
    "        g.ndata.update(dataset.graph_lists[i].ndata)\n",
    "        dataset.graph_lists[i]=g\n",
    "        print(dataset.graph_lists[i].ndata['node_labels'].max())\n",
    "        #print(dataset.graph_lists[i])\n",
    "    return dataset"
   ]
  },
  {
   "cell_type": "code",
   "execution_count": 180,
   "metadata": {},
   "outputs": [
    {
     "name": "stdout",
     "output_type": "stream",
     "text": [
      "600\n",
      "0\n",
      "tensor(1)\n"
     ]
    }
   ],
   "source": [
    "from dgl.data import tu\n",
    "dataset = tu.TUDataset(name='ENZYMES')\n",
    "print(len(dataset))\n",
    "train_size = int(0.6 * len(dataset))\n",
    "test_size = int(0.2 * len(dataset))\n",
    "val_size = int(len(dataset) - train_size - test_size)\n",
    "dataset = pre_process(None,dataset)\n",
    "dataset_train, dataset_val, dataset_test = torch.utils.data.random_split(\n",
    "    dataset, (train_size, val_size, test_size))"
   ]
  },
  {
   "cell_type": "code",
   "execution_count": 178,
   "metadata": {},
   "outputs": [
    {
     "name": "stdout",
     "output_type": "stream",
     "text": [
      "0\n",
      "1\n",
      "2\n",
      "3\n",
      "4\n",
      "5\n",
      "6\n",
      "7\n",
      "8\n",
      "9\n",
      "10\n",
      "11\n",
      "12\n",
      "13\n",
      "14\n",
      "15\n",
      "16\n",
      "17\n",
      "18\n",
      "19\n",
      "20\n",
      "21\n",
      "22\n",
      "23\n",
      "24\n",
      "25\n",
      "26\n",
      "27\n",
      "28\n",
      "29\n",
      "30\n",
      "31\n",
      "32\n",
      "33\n",
      "34\n",
      "35\n",
      "36\n",
      "37\n",
      "38\n",
      "39\n",
      "40\n",
      "41\n",
      "42\n",
      "43\n",
      "44\n",
      "45\n",
      "46\n",
      "47\n",
      "48\n",
      "49\n",
      "50\n",
      "51\n",
      "52\n",
      "53\n",
      "54\n",
      "55\n",
      "56\n",
      "57\n",
      "58\n",
      "59\n",
      "60\n",
      "61\n",
      "62\n",
      "63\n",
      "64\n",
      "65\n",
      "66\n",
      "67\n",
      "68\n",
      "69\n",
      "70\n",
      "71\n",
      "72\n",
      "73\n",
      "74\n",
      "75\n",
      "76\n",
      "77\n",
      "78\n",
      "79\n",
      "80\n",
      "81\n",
      "82\n",
      "83\n",
      "84\n",
      "85\n",
      "86\n",
      "87\n",
      "88\n",
      "89\n",
      "90\n",
      "91\n",
      "92\n",
      "93\n",
      "94\n",
      "95\n",
      "96\n",
      "97\n",
      "98\n",
      "99\n",
      "100\n",
      "101\n",
      "102\n",
      "103\n",
      "104\n",
      "105\n",
      "106\n",
      "107\n",
      "108\n",
      "109\n",
      "110\n",
      "111\n",
      "112\n",
      "113\n",
      "114\n",
      "115\n",
      "116\n",
      "117\n",
      "118\n",
      "119\n",
      "120\n",
      "121\n",
      "122\n",
      "123\n",
      "124\n",
      "125\n",
      "126\n",
      "127\n",
      "128\n",
      "129\n",
      "130\n",
      "131\n",
      "132\n",
      "133\n",
      "134\n",
      "135\n",
      "136\n",
      "137\n",
      "138\n",
      "139\n",
      "140\n",
      "141\n",
      "142\n",
      "143\n",
      "144\n",
      "145\n",
      "146\n",
      "147\n",
      "148\n",
      "149\n",
      "150\n",
      "151\n",
      "152\n",
      "153\n",
      "154\n",
      "155\n",
      "156\n",
      "157\n",
      "158\n",
      "159\n",
      "160\n",
      "161\n",
      "162\n",
      "163\n",
      "164\n",
      "165\n",
      "166\n",
      "167\n",
      "168\n",
      "169\n",
      "170\n",
      "171\n",
      "172\n",
      "173\n",
      "174\n",
      "175\n",
      "176\n",
      "177\n",
      "178\n",
      "179\n",
      "180\n",
      "181\n",
      "182\n",
      "183\n",
      "184\n",
      "185\n",
      "186\n",
      "187\n",
      "188\n",
      "189\n",
      "190\n",
      "191\n",
      "192\n",
      "193\n",
      "194\n",
      "195\n",
      "196\n",
      "197\n",
      "198\n",
      "199\n",
      "200\n",
      "201\n",
      "202\n",
      "203\n",
      "204\n",
      "205\n",
      "206\n",
      "207\n",
      "208\n",
      "209\n",
      "210\n",
      "211\n",
      "212\n",
      "213\n",
      "214\n",
      "215\n",
      "216\n",
      "217\n",
      "218\n",
      "219\n",
      "220\n",
      "221\n",
      "222\n",
      "223\n",
      "224\n",
      "225\n",
      "226\n",
      "227\n",
      "228\n",
      "229\n",
      "230\n",
      "231\n",
      "232\n",
      "233\n",
      "234\n",
      "235\n",
      "236\n",
      "237\n",
      "238\n",
      "239\n",
      "240\n",
      "241\n",
      "242\n",
      "243\n",
      "244\n",
      "245\n",
      "246\n",
      "247\n",
      "248\n",
      "249\n",
      "250\n",
      "251\n",
      "252\n",
      "253\n",
      "254\n",
      "255\n",
      "256\n",
      "257\n",
      "258\n",
      "259\n",
      "260\n",
      "261\n",
      "262\n",
      "263\n",
      "264\n",
      "265\n",
      "266\n",
      "267\n",
      "268\n",
      "269\n",
      "270\n",
      "271\n",
      "272\n",
      "273\n",
      "274\n",
      "275\n",
      "276\n",
      "277\n",
      "278\n",
      "279\n",
      "280\n",
      "281\n",
      "282\n",
      "283\n",
      "284\n",
      "285\n",
      "286\n",
      "287\n",
      "288\n",
      "289\n",
      "290\n",
      "291\n",
      "292\n",
      "293\n",
      "294\n",
      "295\n",
      "296\n",
      "297\n",
      "298\n",
      "299\n",
      "300\n",
      "301\n",
      "302\n",
      "303\n",
      "304\n",
      "305\n",
      "306\n",
      "307\n",
      "308\n",
      "309\n",
      "310\n",
      "311\n",
      "312\n",
      "313\n",
      "314\n",
      "315\n",
      "316\n",
      "317\n",
      "318\n",
      "319\n",
      "320\n",
      "321\n",
      "322\n",
      "323\n",
      "324\n",
      "325\n",
      "326\n",
      "327\n",
      "328\n",
      "329\n",
      "330\n",
      "331\n",
      "332\n",
      "333\n",
      "334\n",
      "335\n",
      "336\n",
      "337\n",
      "338\n",
      "339\n",
      "340\n",
      "341\n",
      "342\n",
      "343\n",
      "344\n",
      "345\n",
      "346\n",
      "347\n",
      "348\n",
      "349\n",
      "350\n",
      "351\n",
      "352\n",
      "353\n",
      "354\n",
      "355\n",
      "356\n",
      "357\n",
      "358\n",
      "359\n",
      "360\n",
      "361\n",
      "362\n",
      "363\n",
      "364\n",
      "365\n",
      "366\n",
      "367\n",
      "368\n",
      "369\n",
      "370\n",
      "371\n",
      "372\n",
      "373\n",
      "374\n",
      "375\n",
      "376\n",
      "377\n",
      "378\n",
      "379\n",
      "380\n",
      "381\n",
      "382\n",
      "383\n",
      "384\n",
      "385\n",
      "386\n",
      "387\n",
      "388\n",
      "389\n",
      "390\n",
      "391\n",
      "392\n",
      "393\n",
      "394\n",
      "395\n",
      "396\n",
      "397\n",
      "398\n",
      "399\n",
      "400\n",
      "401\n",
      "402\n",
      "403\n",
      "404\n",
      "405\n",
      "406\n",
      "407\n",
      "408\n",
      "409\n",
      "410\n",
      "411\n",
      "412\n",
      "413\n",
      "414\n",
      "415\n",
      "416\n",
      "417\n",
      "418\n",
      "419\n",
      "420\n",
      "421\n",
      "422\n",
      "423\n",
      "424\n",
      "425\n",
      "426\n",
      "427\n",
      "428\n",
      "429\n",
      "430\n",
      "431\n",
      "432\n",
      "433\n",
      "434\n",
      "435\n",
      "436\n",
      "437\n",
      "438\n",
      "439\n",
      "440\n",
      "441\n",
      "442\n",
      "443\n",
      "444\n",
      "445\n",
      "446\n",
      "447\n",
      "448\n",
      "449\n",
      "450\n",
      "451\n",
      "452\n",
      "453\n",
      "454\n",
      "455\n",
      "456\n",
      "457\n",
      "458\n",
      "459\n",
      "460\n",
      "461\n",
      "462\n",
      "463\n",
      "464\n",
      "465\n",
      "466\n",
      "467\n",
      "468\n",
      "469\n",
      "470\n",
      "471\n",
      "472\n",
      "473\n",
      "474\n",
      "475\n",
      "476\n",
      "477\n",
      "478\n",
      "479\n",
      "480\n",
      "481\n",
      "482\n",
      "483\n",
      "484\n",
      "485\n",
      "486\n",
      "487\n",
      "488\n",
      "489\n",
      "490\n",
      "491\n",
      "492\n",
      "493\n",
      "494\n",
      "495\n",
      "496\n",
      "497\n",
      "498\n",
      "499\n",
      "500\n",
      "501\n",
      "502\n",
      "503\n",
      "504\n",
      "505\n",
      "506\n",
      "507\n",
      "508\n",
      "509\n",
      "510\n",
      "511\n",
      "512\n",
      "513\n",
      "514\n",
      "515\n",
      "516\n",
      "517\n",
      "518\n",
      "519\n",
      "520\n",
      "521\n",
      "522\n",
      "523\n",
      "524\n",
      "525\n",
      "526\n",
      "527\n",
      "528\n",
      "529\n",
      "530\n",
      "531\n",
      "532\n",
      "533\n",
      "534\n",
      "535\n",
      "536\n",
      "537\n",
      "538\n",
      "539\n",
      "540\n",
      "541\n",
      "542\n",
      "543\n",
      "544\n",
      "545\n",
      "546\n",
      "547\n",
      "548\n",
      "549\n",
      "550\n",
      "551\n",
      "552\n",
      "553\n",
      "554\n",
      "555\n",
      "556\n",
      "557\n",
      "558\n",
      "559\n",
      "560\n",
      "561\n",
      "562\n",
      "563\n",
      "564\n",
      "565\n",
      "566\n",
      "567\n",
      "568\n",
      "569\n",
      "570\n",
      "571\n",
      "572\n",
      "573\n",
      "574\n",
      "575\n",
      "576\n",
      "577\n",
      "578\n",
      "579\n",
      "580\n",
      "581\n",
      "582\n",
      "583\n",
      "584\n",
      "585\n",
      "586\n",
      "587\n",
      "588\n",
      "589\n",
      "590\n",
      "591\n",
      "592\n",
      "593\n",
      "594\n",
      "595\n",
      "596\n",
      "597\n",
      "598\n",
      "599\n"
     ]
    }
   ],
   "source": [
    "for i in range(len(dataset)):\n",
    "    print(i)"
   ]
  },
  {
   "cell_type": "code",
   "execution_count": 150,
   "metadata": {},
   "outputs": [
    {
     "name": "stdout",
     "output_type": "stream",
     "text": [
      "tensor([[11., 11., 11.,  ..., 11., 11., 11.],\n",
      "        [11., 11., 11.,  ..., 11., 11., 11.],\n",
      "        [11., 11., 11.,  ..., 11., 11., 11.],\n",
      "        ...,\n",
      "        [11., 11., 11.,  ..., 11., 11., 11.],\n",
      "        [11., 11., 11.,  ..., 11., 11., 11.],\n",
      "        [11., 11., 11.,  ..., 11., 11., 11.]])\n",
      "tensor([1., 1., 1., 1., 1., 1., 1., 1., 1., 1., 1., 1., 1., 1., 1., 1., 1., 1.,\n",
      "        1., 1., 1., 1., 1., 1., 1., 1., 1., 1., 1., 1., 1., 1.])\n"
     ]
    }
   ],
   "source": [
    "c=torch.ones(32)\n",
    "x=torch.ones(50,32)+10\n",
    "print(x)\n",
    "print(c)"
   ]
  },
  {
   "cell_type": "code",
   "execution_count": 151,
   "metadata": {},
   "outputs": [
    {
     "data": {
      "text/plain": [
       "torch.Size([50, 32])"
      ]
     },
     "execution_count": 151,
     "metadata": {},
     "output_type": "execute_result"
    }
   ],
   "source": [
    "t=(x - c)** 2\n",
    "t.size()"
   ]
  },
  {
   "cell_type": "code",
   "execution_count": 152,
   "metadata": {},
   "outputs": [
    {
     "name": "stdout",
     "output_type": "stream",
     "text": [
      "torch.Size([50])\n"
     ]
    },
    {
     "data": {
      "text/plain": [
       "tensor([3200., 3200., 3200., 3200., 3200., 3200., 3200., 3200., 3200., 3200.,\n",
       "        3200., 3200., 3200., 3200., 3200., 3200., 3200., 3200., 3200., 3200.,\n",
       "        3200., 3200., 3200., 3200., 3200., 3200., 3200., 3200., 3200., 3200.,\n",
       "        3200., 3200., 3200., 3200., 3200., 3200., 3200., 3200., 3200., 3200.,\n",
       "        3200., 3200., 3200., 3200., 3200., 3200., 3200., 3200., 3200., 3200.])"
      ]
     },
     "execution_count": 152,
     "metadata": {},
     "output_type": "execute_result"
    }
   ],
   "source": [
    "dist1 = torch.sum((x - c) ** 2, dim=1)\n",
    "print(dist1.size())\n",
    "dist1"
   ]
  },
  {
   "cell_type": "code",
   "execution_count": 153,
   "metadata": {},
   "outputs": [
    {
     "data": {
      "text/plain": [
       "tensor(3200.)"
      ]
     },
     "execution_count": 153,
     "metadata": {},
     "output_type": "execute_result"
    }
   ],
   "source": [
    "torch.mean(dist1)"
   ]
  },
  {
   "cell_type": "code",
   "execution_count": 154,
   "metadata": {},
   "outputs": [
    {
     "name": "stdout",
     "output_type": "stream",
     "text": [
      "torch.Size([50])\n"
     ]
    },
    {
     "data": {
      "text/plain": [
       "tensor([100., 100., 100., 100., 100., 100., 100., 100., 100., 100., 100., 100.,\n",
       "        100., 100., 100., 100., 100., 100., 100., 100., 100., 100., 100., 100.,\n",
       "        100., 100., 100., 100., 100., 100., 100., 100., 100., 100., 100., 100.,\n",
       "        100., 100., 100., 100., 100., 100., 100., 100., 100., 100., 100., 100.,\n",
       "        100., 100.])"
      ]
     },
     "execution_count": 154,
     "metadata": {},
     "output_type": "execute_result"
    }
   ],
   "source": [
    "c_=c.repeat(x.size()[0],1)\n",
    "# # print('c',c.size())\n",
    "res=x-c_\n",
    "# # print('res',res.size())\n",
    "res=torch.mean(res, 1, keepdim=True)\n",
    "# # print('res mean',res.size())\n",
    "dist2=torch.diag(torch.mm(res,torch.transpose(res, 0, 1)))\n",
    "print(dist2.size())\n",
    "dist2"
   ]
  },
  {
   "cell_type": "code",
   "execution_count": 155,
   "metadata": {},
   "outputs": [
    {
     "data": {
      "text/plain": [
       "tensor(100.)"
      ]
     },
     "execution_count": 155,
     "metadata": {},
     "output_type": "execute_result"
    }
   ],
   "source": [
    "torch.mean(dist2)"
   ]
  },
  {
   "cell_type": "code",
   "execution_count": 36,
   "metadata": {},
   "outputs": [
    {
     "data": {
      "text/plain": [
       "tensor([ 0,  1,  2,  3,  4,  5,  6,  7,  8,  9, 10, 11, 12, 13, 14, 15, 16, 17,\n",
       "        18, 19, 20, 21])"
      ]
     },
     "execution_count": 36,
     "metadata": {},
     "output_type": "execute_result"
    }
   ],
   "source": [
    "torch.where(dataset.graph_lists[0].ndata['node_labels']==0)[0]"
   ]
  },
  {
   "cell_type": "code",
   "execution_count": null,
   "metadata": {},
   "outputs": [],
   "source": []
  },
  {
   "cell_type": "code",
   "execution_count": 10,
   "metadata": {},
   "outputs": [],
   "source": [
    "def batching_graph(batch):\n",
    "    '''\n",
    "    for dataset batching\n",
    "    transform ndata to tensor (in gpu is available)\n",
    "    '''\n",
    "    graphs, labels = map(list, zip(*batch))\n",
    "    #cuda = torch.cuda.is_available()\n",
    "\n",
    "    # batch graphs and cast to PyTorch tensor\n",
    "    for graph in graphs:\n",
    "        for (key, value) in graph.ndata.items():\n",
    "            graph.ndata[key] = value.float()\n",
    "    batched_graphs = dgl.batch(graphs)\n",
    "\n",
    "    # cast to PyTorch tensor\n",
    "    batched_labels = torch.LongTensor(np.array(labels))\n",
    "\n",
    "    return batched_graphs, batched_labels"
   ]
  },
  {
   "cell_type": "code",
   "execution_count": 43,
   "metadata": {},
   "outputs": [],
   "source": [
    "train_loader=torch.utils.data.DataLoader(dataset_train,\n",
    "                                       batch_size=32,\n",
    "                                       shuffle=True,\n",
    "                                       collate_fn=batching_graph,\n",
    "                                       drop_last=True,\n",
    "                                       num_workers=4)"
   ]
  },
  {
   "cell_type": "code",
   "execution_count": 156,
   "metadata": {},
   "outputs": [
    {
     "name": "stdout",
     "output_type": "stream",
     "text": [
      "0\n",
      "1\n",
      "2\n",
      "3\n",
      "4\n"
     ]
    }
   ],
   "source": [
    "for (batch_idx, (batch_graph, graph_labels)) in enumerate(train_loader):\n",
    "    print(batch_idx)\n",
    "    if batch_idx >3:\n",
    "        break"
   ]
  },
  {
   "cell_type": "code",
   "execution_count": 74,
   "metadata": {},
   "outputs": [],
   "source": [
    "a=batch_graph.ndata['node_attr']\n",
    "m = nn.BatchNorm1d(29, affine=False)"
   ]
  },
  {
   "cell_type": "code",
   "execution_count": 79,
   "metadata": {},
   "outputs": [
    {
     "data": {
      "text/plain": [
       "29"
      ]
     },
     "execution_count": 79,
     "metadata": {},
     "output_type": "execute_result"
    }
   ],
   "source": [
    "batch_graph.ndata['node_attr'].shape[1]"
   ]
  },
  {
   "cell_type": "code",
   "execution_count": 172,
   "metadata": {},
   "outputs": [
    {
     "data": {
      "text/plain": [
       "array([1., 1., 1., 1., 1., 1., 1., 1., 1., 1.])"
      ]
     },
     "execution_count": 172,
     "metadata": {},
     "output_type": "execute_result"
    }
   ],
   "source": [
    "a=np.ones(10)\n",
    "a"
   ]
  },
  {
   "cell_type": "code",
   "execution_count": 174,
   "metadata": {},
   "outputs": [
    {
     "data": {
      "text/plain": [
       "array([1.0, 1.0, 1.0, 1.0, 1.0, 1.0, 1.0, 1.0, 1.0, 1.0, None],\n",
       "      dtype=object)"
      ]
     },
     "execution_count": 174,
     "metadata": {},
     "output_type": "execute_result"
    }
   ],
   "source": [
    "b=np.append(a,None)\n",
    "b"
   ]
  },
  {
   "cell_type": "code",
   "execution_count": 76,
   "metadata": {},
   "outputs": [
    {
     "data": {
      "text/plain": [
       "tensor(16.6918)"
      ]
     },
     "execution_count": 76,
     "metadata": {},
     "output_type": "execute_result"
    }
   ],
   "source": [
    "output.max()"
   ]
  },
  {
   "cell_type": "code",
   "execution_count": 34,
   "metadata": {},
   "outputs": [
    {
     "data": {
      "text/plain": [
       "tensor([   0,    1,    2,    3,    4,    5,    6,    7,    8,    9,   10,   11,\n",
       "          24,   25,   38,   39,   40,   41,   42,   43,   44,   45,   46,   47,\n",
       "          48,   49,   50,   51,   52,   53,   54,   55,   56,   57,   71,   78,\n",
       "          79,   80,   81,   82,   83,   84,   85,   86,   87,   88,   89,   90,\n",
       "          91,   92,  135,  136,  137,  138,  139,  140,  141,  142,  143,  144,\n",
       "         145,  175,  176,  177,  178,  179,  180,  181,  182,  183,  184,  185,\n",
       "         186,  187,  197,  198,  199,  200,  201,  202,  203,  204,  205,  206,\n",
       "         207,  208,  209,  210,  211,  212,  213,  214,  215,  216,  217,  218,\n",
       "         219,  220,  221,  222,  223,  224,  225,  226,  227,  228,  229,  230,\n",
       "         261,  262,  263,  264,  265,  266,  271,  272,  273,  274,  305,  306,\n",
       "         307,  308,  309,  310,  311,  312,  313,  314,  315,  332,  333,  334,\n",
       "         335,  336,  343,  344,  345,  346,  347,  348,  349,  350,  351,  352,\n",
       "         353,  354,  355,  356,  357,  372,  373,  374,  375,  376,  377,  378,\n",
       "         379,  380,  381,  394,  395,  396,  397,  398,  399,  460,  461,  462,\n",
       "         463,  464,  465,  466,  467,  468,  469,  470,  479,  480,  481,  482,\n",
       "         483,  484,  485,  486,  487,  488,  489,  490,  491,  492,  493,  494,\n",
       "         495,  496,  497,  498,  499,  500,  501,  502,  503,  504,  530,  531,\n",
       "         532,  533,  534,  535,  536,  537,  538,  539,  540,  541,  542,  543,\n",
       "         544,  590,  591,  592,  593,  594,  595,  596,  597,  598,  599,  600,\n",
       "         601,  602,  603,  604,  605,  606,  607,  608,  609,  610,  611,  612,\n",
       "         613,  614,  615,  616,  617,  618,  619,  620,  621,  622,  623,  624,\n",
       "         625,  626,  627,  628,  629,  630,  649,  650,  651,  652,  653,  654,\n",
       "         655,  656,  657,  658,  659,  660,  661,  662,  663,  664,  665,  666,\n",
       "         667,  668,  669,  670,  671,  672,  673,  674,  675,  676,  677,  678,\n",
       "         679,  680,  681,  682,  683,  684,  685,  686,  687,  688,  689,  690,\n",
       "         691,  692,  693,  694,  695,  696,  697,  698,  719,  720,  721,  722,\n",
       "         723,  724,  725,  726,  727,  728,  729,  730,  731,  732,  733,  734,\n",
       "         735,  736,  737,  738,  739,  740,  741,  750,  751,  756,  757,  758,\n",
       "         759,  760,  761,  762,  763,  764,  765,  766,  767,  768,  769,  770,\n",
       "         778,  779,  780,  781,  782,  783,  784,  785,  786,  787,  788,  789,\n",
       "         790,  791,  792,  793,  794,  795,  796,  797,  798,  799,  820,  821,\n",
       "         822,  823,  824,  825,  826,  827,  828,  829,  830,  831,  832,  833,\n",
       "         834,  835,  836,  837,  838,  839,  840,  841,  842,  843,  844,  845,\n",
       "         846,  847,  848,  849,  850,  851,  852,  853,  854,  855,  856,  857,\n",
       "         858,  859,  860,  861,  862,  863,  864,  865,  866,  867,  868,  869,\n",
       "         870,  871,  872,  873,  874,  875,  876,  877,  878,  879,  880,  881,\n",
       "         882,  883,  884,  885,  946,  947,  948,  949,  950,  951,  952,  953,\n",
       "         954,  955,  956,  964,  965,  966,  967,  968,  969,  975,  976,  977,\n",
       "         978,  979,  985,  986,  987,  988,  989, 1021, 1022, 1023, 1024, 1025,\n",
       "        1026, 1027, 1050, 1051, 1052, 1053, 1054, 1055, 1056, 1057, 1058, 1059,\n",
       "        1060, 1061, 1062])"
      ]
     },
     "execution_count": 34,
     "metadata": {},
     "output_type": "execute_result"
    }
   ],
   "source": [
    "normal_idx=torch.where(batch_graph.ndata['node_labels']==0)[0]\n",
    "abnormal_idx=torch.where(batch_graph.ndata['node_labels']!=0)[0]\n",
    "\n",
    "\n",
    "normal_idx"
   ]
  },
  {
   "cell_type": "code",
   "execution_count": null,
   "metadata": {},
   "outputs": [],
   "source": []
  },
  {
   "cell_type": "code",
   "execution_count": 29,
   "metadata": {},
   "outputs": [],
   "source": [
    "batch_graph.ndata['node_labels'][normal_idx]=0\n",
    "batch_graph.ndata['node_labels'][abnormal_idx]=1"
   ]
  },
  {
   "cell_type": "code",
   "execution_count": 32,
   "metadata": {},
   "outputs": [
    {
     "data": {
      "text/plain": [
       "tensor(593.)"
      ]
     },
     "execution_count": 32,
     "metadata": {},
     "output_type": "execute_result"
    }
   ],
   "source": [
    "batch_graph.ndata['node_labels'].sum()"
   ]
  },
  {
   "cell_type": "code",
   "execution_count": null,
   "metadata": {},
   "outputs": [],
   "source": [
    "input_dim, label_dim, max_num_node = dataset.statistics()"
   ]
  },
  {
   "cell_type": "code",
   "execution_count": null,
   "metadata": {},
   "outputs": [],
   "source": [
    "print(len(dataset_train))\n",
    "print(len(dataset_val))\n",
    "print(len(dataset_test))"
   ]
  },
  {
   "cell_type": "code",
   "execution_count": null,
   "metadata": {},
   "outputs": [],
   "source": [
    "label0=data[0][0].ndata['node_labels']\n",
    "label1=data[1][0].ndata['node_labels']\n",
    "label2=data[2][0].ndata['node_labels']"
   ]
  },
  {
   "cell_type": "code",
   "execution_count": null,
   "metadata": {},
   "outputs": [],
   "source": [
    "label1"
   ]
  },
  {
   "cell_type": "code",
   "execution_count": null,
   "metadata": {},
   "outputs": [],
   "source": [
    "print(len(label0))\n",
    "print(len(label1))\n",
    "print(len(label2))"
   ]
  },
  {
   "cell_type": "code",
   "execution_count": null,
   "metadata": {},
   "outputs": [],
   "source": [
    "data[1][0].ndata['node_labels'].size()"
   ]
  },
  {
   "cell_type": "code",
   "execution_count": null,
   "metadata": {},
   "outputs": [],
   "source": []
  },
  {
   "cell_type": "code",
   "execution_count": null,
   "metadata": {},
   "outputs": [],
   "source": [
    "labels,train_mask,val_mask,test_mask=one_class_processing(data[0][0],4)"
   ]
  },
  {
   "cell_type": "code",
   "execution_count": null,
   "metadata": {},
   "outputs": [],
   "source": [
    "from collections import Counter\n",
    "Counter(data.labels)"
   ]
  },
  {
   "cell_type": "code",
   "execution_count": null,
   "metadata": {},
   "outputs": [],
   "source": [
    "normal_class=2\n",
    "labels,train_mask,val_mask,test_mask=one_class_processing(data.labels,normal_class)"
   ]
  },
  {
   "cell_type": "code",
   "execution_count": null,
   "metadata": {},
   "outputs": [],
   "source": [
    "labels[train_mask.astype(int)].shape"
   ]
  },
  {
   "cell_type": "code",
   "execution_count": null,
   "metadata": {},
   "outputs": [],
   "source": [
    "print('train',np.sum(labels[train_mask.astype(int)==1]))\n",
    "print('val',np.sum(labels[val_mask.astype(int)==1]))\n",
    "print('test',np.sum(labels[test_mask.astype(int)==1]))"
   ]
  },
  {
   "cell_type": "code",
   "execution_count": null,
   "metadata": {},
   "outputs": [],
   "source": [
    "print('train',np.sum(train_mask))\n",
    "print('val',np.sum(val_mask))\n",
    "print('test',np.sum(test_mask))"
   ]
  },
  {
   "cell_type": "code",
   "execution_count": null,
   "metadata": {},
   "outputs": [],
   "source": [
    "train_mask.shape"
   ]
  },
  {
   "cell_type": "code",
   "execution_count": null,
   "metadata": {},
   "outputs": [],
   "source": []
  }
 ],
 "metadata": {
  "kernelspec": {
   "display_name": "Python 3.7.6 64-bit ('torch': conda)",
   "language": "python",
   "name": "python37664bittorchconda548f72fdfc224edabca6854a96161b03"
  },
  "language_info": {
   "codemirror_mode": {
    "name": "ipython",
    "version": 3
   },
   "file_extension": ".py",
   "mimetype": "text/x-python",
   "name": "python",
   "nbconvert_exporter": "python",
   "pygments_lexer": "ipython3",
   "version": "3.7.6"
  },
  "varInspector": {
   "cols": {
    "lenName": 16,
    "lenType": 16,
    "lenVar": 40
   },
   "kernels_config": {
    "python": {
     "delete_cmd_postfix": "",
     "delete_cmd_prefix": "del ",
     "library": "var_list.py",
     "varRefreshCmd": "print(var_dic_list())"
    },
    "r": {
     "delete_cmd_postfix": ") ",
     "delete_cmd_prefix": "rm(",
     "library": "var_list.r",
     "varRefreshCmd": "cat(var_dic_list()) "
    }
   },
   "position": {
    "height": "169.983px",
    "left": "1763.33px",
    "right": "20px",
    "top": "120px",
    "width": "350px"
   },
   "types_to_exclude": [
    "module",
    "function",
    "builtin_function_or_method",
    "instance",
    "_Feature"
   ],
   "window_display": true
  }
 },
 "nbformat": 4,
 "nbformat_minor": 2
}
