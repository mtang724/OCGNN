{
 "cells": [
  {
   "cell_type": "code",
   "execution_count": null,
   "metadata": {},
   "outputs": [],
   "source": [
    "from dgl.data import citation_graph,CoraDataset,TUDataset,GINDataset, ICEWS18\n",
    "import torch\n",
    "from dgl import DGLGraph\n",
    "import numpy as np\n",
    "import dgl\n",
    "from datasets.prepocessing import one_class_processing"
   ]
  },
  {
   "cell_type": "code",
   "execution_count": null,
   "metadata": {},
   "outputs": [],
   "source": [
    "data =citation_graph.load_cora()\n",
    "#data =citation_graph.load_citeseer()\n",
    "#data =TUDataset('PROTEINS_full')\n",
    "#data =ICEWS18('train')"
   ]
  },
  {
   "cell_type": "code",
   "execution_count": 59,
   "metadata": {},
   "outputs": [],
   "source": [
    "from dgl.data import tu\n",
    "dataset = tu.TUDataset(name='PROTEINS_full')\n",
    "train_size = int(0.6 * len(dataset))\n",
    "test_size = int(0.2 * len(dataset))\n",
    "val_size = int(len(dataset) - train_size - test_size)\n",
    "\n",
    "dataset_train, dataset_val, dataset_test = torch.utils.data.random_split(\n",
    "    dataset, (train_size, val_size, test_size))"
   ]
  },
  {
   "cell_type": "code",
   "execution_count": 60,
   "metadata": {},
   "outputs": [
    {
     "output_type": "execute_result",
     "data": {
      "text/plain": "DGLGraph(num_nodes=42, num_edges=162,\n         ndata_schemes={'node_labels': Scheme(shape=(), dtype=torch.int64), 'node_attr': Scheme(shape=(29,), dtype=torch.int64)}\n         edata_schemes={})"
     },
     "metadata": {},
     "execution_count": 60
    }
   ],
   "source": [
    "dataset.graph_lists[0]"
   ]
  },
  {
   "cell_type": "code",
   "execution_count": 61,
   "metadata": {},
   "outputs": [
    {
     "output_type": "stream",
     "name": "stdout",
     "text": "DGLGraph(num_nodes=42, num_edges=204,\n         ndata_schemes={'node_labels': Scheme(shape=(), dtype=torch.int64), 'node_attr': Scheme(shape=(29,), dtype=torch.int64)}\n         edata_schemes={})\n"
    }
   ],
   "source": [
    "g=dgl.transform.add_self_loop(dataset.graph_lists[0])\n",
    "g.ndata.update(dataset.graph_lists[0].ndata)\n",
    "dataset.graph_lists[0]=g\n",
    "print(dataset.graph_lists[0])"
   ]
  },
  {
   "cell_type": "code",
   "execution_count": 62,
   "metadata": {},
   "outputs": [
    {
     "output_type": "stream",
     "name": "stdout",
     "text": "DGLGraph(num_nodes=42, num_edges=204,\n         ndata_schemes={'node_labels': Scheme(shape=(), dtype=torch.int64), 'node_attr': Scheme(shape=(29,), dtype=torch.int64)}\n         edata_schemes={})\nDGLGraph(num_nodes=42, num_edges=204,\n         ndata_schemes={'node_labels': Scheme(shape=(), dtype=torch.int64), 'node_attr': Scheme(shape=(29,), dtype=torch.int64)}\n         edata_schemes={})\nDGLGraph(num_nodes=27, num_edges=92,\n         ndata_schemes={'node_labels': Scheme(shape=(), dtype=torch.int64), 'node_attr': Scheme(shape=(29,), dtype=torch.int64)}\n         edata_schemes={})\nDGLGraph(num_nodes=27, num_edges=119,\n         ndata_schemes={'node_labels': Scheme(shape=(), dtype=torch.int64), 'node_attr': Scheme(shape=(29,), dtype=torch.int64)}\n         edata_schemes={})\n"
    }
   ],
   "source": [
    "for i in range(len(dataset)):\n",
    "    print(dataset.graph_lists[i])\n",
    "    g=dgl.transform.add_self_loop(dataset.graph_lists[i])\n",
    "    g.ndata.update(dataset.graph_lists[i].ndata)\n",
    "    dataset.graph_lists[i]=g\n",
    "    print(dataset.graph_lists[i])\n",
    "    if i>0:\n",
    "        break"
   ]
  },
  {
   "cell_type": "code",
   "execution_count": null,
   "metadata": {},
   "outputs": [],
   "source": [
    "new_g.ndata.update(g.ndata)"
   ]
  },
  {
   "cell_type": "code",
   "execution_count": null,
   "metadata": {},
   "outputs": [],
   "source": [
    "def batching_graph(batch):\n",
    "    '''\n",
    "    for dataset batching\n",
    "    transform ndata to tensor (in gpu is available)\n",
    "    '''\n",
    "    graphs, labels = map(list, zip(*batch))\n",
    "    #cuda = torch.cuda.is_available()\n",
    "\n",
    "    # batch graphs and cast to PyTorch tensor\n",
    "    for graph in graphs:\n",
    "        for (key, value) in graph.ndata.items():\n",
    "            graph.ndata[key] = value.float()\n",
    "    batched_graphs = dgl.batch(graphs)\n",
    "\n",
    "    # cast to PyTorch tensor\n",
    "    batched_labels = torch.LongTensor(np.array(labels))\n",
    "\n",
    "    return batched_graphs, batched_labels"
   ]
  },
  {
   "cell_type": "code",
   "execution_count": null,
   "metadata": {},
   "outputs": [],
   "source": [
    "train_loader=torch.utils.data.DataLoader(dataset_train,\n",
    "                                       batch_size=32,\n",
    "                                       shuffle=True,\n",
    "                                       collate_fn=batching_graph,\n",
    "                                       drop_last=True,\n",
    "                                       num_workers=4)"
   ]
  },
  {
   "cell_type": "code",
   "execution_count": null,
   "metadata": {},
   "outputs": [],
   "source": [
    "for (batch_idx, (batch_graph, graph_labels)) in enumerate(train_loader):\n",
    "    print(batch_graph)\n",
    "    if batch_idx >3:\n",
    "        break"
   ]
  },
  {
   "cell_type": "code",
   "execution_count": null,
   "metadata": {},
   "outputs": [],
   "source": [
    "batch_graph"
   ]
  },
  {
   "cell_type": "code",
   "execution_count": null,
   "metadata": {},
   "outputs": [],
   "source": [
    "batch_graph."
   ]
  },
  {
   "cell_type": "code",
   "execution_count": null,
   "metadata": {},
   "outputs": [],
   "source": [
    "input_dim, label_dim, max_num_node = dataset.statistics()"
   ]
  },
  {
   "cell_type": "code",
   "execution_count": null,
   "metadata": {},
   "outputs": [],
   "source": [
    "print(len(dataset_train))\n",
    "print(len(dataset_val))\n",
    "print(len(dataset_test))"
   ]
  },
  {
   "cell_type": "code",
   "execution_count": null,
   "metadata": {},
   "outputs": [],
   "source": [
    "label0=data[0][0].ndata['node_labels']\n",
    "label1=data[1][0].ndata['node_labels']\n",
    "label2=data[2][0].ndata['node_labels']"
   ]
  },
  {
   "cell_type": "code",
   "execution_count": null,
   "metadata": {},
   "outputs": [],
   "source": [
    "label1"
   ]
  },
  {
   "cell_type": "code",
   "execution_count": null,
   "metadata": {},
   "outputs": [],
   "source": [
    "print(len(label0))\n",
    "print(len(label1))\n",
    "print(len(label2))"
   ]
  },
  {
   "cell_type": "code",
   "execution_count": null,
   "metadata": {},
   "outputs": [],
   "source": [
    "data[1][0].ndata['node_labels'].size()"
   ]
  },
  {
   "cell_type": "code",
   "execution_count": null,
   "metadata": {},
   "outputs": [],
   "source": []
  },
  {
   "cell_type": "code",
   "execution_count": null,
   "metadata": {},
   "outputs": [],
   "source": [
    "labels,train_mask,val_mask,test_mask=one_class_processing(data[0][0],4)"
   ]
  },
  {
   "cell_type": "code",
   "execution_count": null,
   "metadata": {},
   "outputs": [],
   "source": [
    "from collections import Counter\n",
    "Counter(data.labels)"
   ]
  },
  {
   "cell_type": "code",
   "execution_count": null,
   "metadata": {},
   "outputs": [],
   "source": [
    "normal_class=2\n",
    "labels,train_mask,val_mask,test_mask=one_class_processing(data.labels,normal_class)"
   ]
  },
  {
   "cell_type": "code",
   "execution_count": null,
   "metadata": {},
   "outputs": [],
   "source": [
    "labels[train_mask.astype(int)].shape"
   ]
  },
  {
   "cell_type": "code",
   "execution_count": null,
   "metadata": {},
   "outputs": [],
   "source": [
    "print('train',np.sum(labels[train_mask.astype(int)==1]))\n",
    "print('val',np.sum(labels[val_mask.astype(int)==1]))\n",
    "print('test',np.sum(labels[test_mask.astype(int)==1]))"
   ]
  },
  {
   "cell_type": "code",
   "execution_count": null,
   "metadata": {},
   "outputs": [],
   "source": [
    "print('train',np.sum(train_mask))\n",
    "print('val',np.sum(val_mask))\n",
    "print('test',np.sum(test_mask))"
   ]
  },
  {
   "cell_type": "code",
   "execution_count": null,
   "metadata": {},
   "outputs": [],
   "source": [
    "train_mask.shape"
   ]
  },
  {
   "cell_type": "code",
   "execution_count": null,
   "metadata": {},
   "outputs": [],
   "source": []
  }
 ],
 "metadata": {
  "kernelspec": {
   "display_name": "Python 3.7.6 64-bit ('torch': conda)",
   "language": "python",
   "name": "python37664bittorchconda548f72fdfc224edabca6854a96161b03"
  },
  "language_info": {
   "codemirror_mode": {
    "name": "ipython",
    "version": 3
   },
   "file_extension": ".py",
   "mimetype": "text/x-python",
   "name": "python",
   "nbconvert_exporter": "python",
   "pygments_lexer": "ipython3",
   "version": "3.7.6-final"
  },
  "varInspector": {
   "cols": {
    "lenName": 16,
    "lenType": 16,
    "lenVar": 40
   },
   "kernels_config": {
    "python": {
     "delete_cmd_postfix": "",
     "delete_cmd_prefix": "del ",
     "library": "var_list.py",
     "varRefreshCmd": "print(var_dic_list())"
    },
    "r": {
     "delete_cmd_postfix": ") ",
     "delete_cmd_prefix": "rm(",
     "library": "var_list.r",
     "varRefreshCmd": "cat(var_dic_list()) "
    }
   },
   "position": {
    "height": "169.983px",
    "left": "1763.33px",
    "right": "20px",
    "top": "120px",
    "width": "350px"
   },
   "types_to_exclude": [
    "module",
    "function",
    "builtin_function_or_method",
    "instance",
    "_Feature"
   ],
   "window_display": true
  }
 },
 "nbformat": 4,
 "nbformat_minor": 2
}